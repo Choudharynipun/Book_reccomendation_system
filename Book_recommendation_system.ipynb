{
  "nbformat": 4,
  "nbformat_minor": 0,
  "metadata": {
    "colab": {
      "provenance": [],
      "authorship_tag": "ABX9TyPJz5AQan3BMkxRSXxTS8bP",
      "include_colab_link": true
    },
    "kernelspec": {
      "name": "python3",
      "display_name": "Python 3"
    },
    "language_info": {
      "name": "python"
    }
  },
  "cells": [
    {
      "cell_type": "markdown",
      "metadata": {
        "id": "view-in-github",
        "colab_type": "text"
      },
      "source": [
        "<a href=\"https://colab.research.google.com/github/Choudharynipun/Book_reccomendation_system/blob/main/Book_recommendation_system.ipynb\" target=\"_parent\"><img src=\"https://colab.research.google.com/assets/colab-badge.svg\" alt=\"Open In Colab\"/></a>"
      ]
    },
    {
      "cell_type": "code",
      "execution_count": 1,
      "metadata": {
        "id": "q4lqY79Ov3hG"
      },
      "outputs": [],
      "source": [
        "import numpy as np\n",
        "import pandas as pd\n",
        "\n",
        "import os\n",
        "for dirname, _, filenames in os.walk('/kaggle/input'):\n",
        "    for filename in filenames:\n",
        "        print(os.path.join(dirname, filename))"
      ]
    },
    {
      "cell_type": "code",
      "source": [
        "! pip install kaggle\n",
        "! mkdir ~/.kaggle\n",
        "! cp kaggle.json ~/.kaggle/\n",
        "! chmod 600 ~/.kaggle/kaggle.json"
      ],
      "metadata": {
        "id": "sNjk9fmIpE30"
      },
      "execution_count": null,
      "outputs": []
    },
    {
      "cell_type": "code",
      "source": [
        "data = ! kaggle datasets download <book_recommendation_data>"
      ],
      "metadata": {
        "id": "N_iV9gHnpE0O"
      },
      "execution_count": null,
      "outputs": []
    },
    {
      "cell_type": "code",
      "source": [
        "df = data\n",
        "\n",
        "num_rows, num_cols = df.shape\n",
        "print(\"Number of rows:\", num_rows)\n",
        "print(\"Number of columns:\", num_cols)\n",
        "\n",
        "column_names = df.columns.tolist()\n",
        "print(\"Column names:\", column_names)\n",
        "\n",
        "sample_data = df.head(10)\n",
        "print(\"Sample data:\")\n",
        "print(sample_data)\n",
        "\n",
        "data_stats = df.describe()\n",
        "print(\"Dataset statistics:\")\n",
        "print(data_stats)"
      ],
      "metadata": {
        "id": "Rm2i1IuupDP9"
      },
      "execution_count": null,
      "outputs": []
    },
    {
      "cell_type": "code",
      "source": [
        "import matplotlib.pyplot as plt\n",
        "\n",
        "plt.hist(df['average_rating'], bins=20, color='skyblue', edgecolor='black')\n",
        "plt.title('Distribution of Average Ratings')\n",
        "plt.xlabel('Average Rating')\n",
        "plt.ylabel('Frequency')\n",
        "plt.show()\n"
      ],
      "metadata": {
        "id": "X1EIS9FDjOGR"
      },
      "execution_count": null,
      "outputs": []
    },
    {
      "cell_type": "code",
      "source": [
        "plt.scatter(df['num_pages'], df['ratings_count'], alpha=0.5, color='orange')\n",
        "plt.title('Number of Pages vs Ratings Count')\n",
        "plt.xlabel('Number of Pages')\n",
        "plt.ylabel('Ratings Count')\n",
        "plt.show()\n"
      ],
      "metadata": {
        "id": "k1h9vgJkjOED"
      },
      "execution_count": null,
      "outputs": []
    },
    {
      "cell_type": "code",
      "source": [
        "import seaborn as sns\n",
        "plt.figure(figsize=(12, 6))\n",
        "sns.countplot(x=df['published_year'], palette='viridis')\n",
        "plt.title('Distribution of Published Years')\n",
        "plt.xlabel('Published Year')\n",
        "plt.ylabel('Count')\n",
        "plt.xticks(rotation=45, ha='right')\n",
        "plt.tight_layout()\n",
        "plt.show()"
      ],
      "metadata": {
        "id": "yiETtN8hjOBi"
      },
      "execution_count": null,
      "outputs": []
    },
    {
      "cell_type": "code",
      "source": [
        "top_rated_books = df.nlargest(10, 'average_rating')\n",
        "plt.figure(figsize=(12, 8))\n",
        "sns.barplot(x='average_rating', y='title', hue='categories', data=top_rated_books, palette='coolwarm')\n",
        "plt.title('Top 10 Books with the Highest Ratings by Genre')\n",
        "plt.xlabel('Average Rating')\n",
        "plt.ylabel('Book Title')\n",
        "plt.legend(title='Genre', bbox_to_anchor=(1, 1))\n",
        "plt.show()"
      ],
      "metadata": {
        "id": "MfsL5gEUjN-0"
      },
      "execution_count": null,
      "outputs": []
    },
    {
      "cell_type": "code",
      "source": [
        "top_authors = df['authors'].value_counts().head(10)\n",
        "plt.figure(figsize=(12, 6))\n",
        "top_authors.plot(kind='bar', color='salmon')\n",
        "plt.title('Top 10 Authors and Their Book Counts')\n",
        "plt.xlabel('Authors')\n",
        "plt.ylabel('Book Counts')\n",
        "plt.show()"
      ],
      "metadata": {
        "id": "nUb0ngVVjN78"
      },
      "execution_count": null,
      "outputs": []
    },
    {
      "cell_type": "code",
      "source": [
        "df['subtitle'].fillna('', inplace=True)\n",
        "df['description'].fillna('', inplace=True)\n",
        "df['published_year'] = df['published_year'].astype('int', errors='ignore')\n"
      ],
      "metadata": {
        "id": "yEKMTr4ijN5o"
      },
      "execution_count": null,
      "outputs": []
    },
    {
      "cell_type": "code",
      "source": [
        "df['full_text'] = df['title'] + ' ' + df['subtitle'] + ' ' + df['description']"
      ],
      "metadata": {
        "id": "0i_dO4wOjN2r"
      },
      "execution_count": null,
      "outputs": []
    },
    {
      "cell_type": "code",
      "source": [
        "from sklearn.feature_extraction.text import TfidfVectorizer\n",
        "from sklearn.metrics.pairwise import linear_kernel\n",
        "\n",
        "tfidf_vectorizer = TfidfVectorizer(stop_words='english')\n",
        "tfidf_matrix = tfidf_vectorizer.fit_transform(df['full_text'])\n",
        "\n",
        "cosine_similarities = linear_kernel(tfidf_matrix, tfidf_matrix)"
      ],
      "metadata": {
        "id": "j9S5f_FMjNzx"
      },
      "execution_count": null,
      "outputs": []
    },
    {
      "cell_type": "code",
      "source": [
        "pip install gensim"
      ],
      "metadata": {
        "id": "bFKRLkGijNw8"
      },
      "execution_count": null,
      "outputs": []
    },
    {
      "cell_type": "code",
      "source": [
        "from gensim.models import Word2Vec\n",
        "from nltk.tokenize import word_tokenize\n",
        "import nltk\n",
        "nltk.download('punkt')\n",
        "\n",
        "tokenized_text = df['full_text'].apply(word_tokenize)\n",
        "word2vec_model = Word2Vec(sentences=tokenized_text, vector_size=100, window=5, min_count=1, workers=4)"
      ],
      "metadata": {
        "id": "98eIuIlXjNuT"
      },
      "execution_count": null,
      "outputs": []
    },
    {
      "cell_type": "code",
      "source": [
        "import numpy as np\n",
        "\n",
        "def embed_text(text):\n",
        "    words = word_tokenize(text)\n",
        "    word_embeddings = [word2vec_model.wv[word] for word in words if word in word2vec_model.wv]\n",
        "\n",
        "    if not word_embeddings:\n",
        "        return np.zeros(word2vec_model.vector_size)\n",
        "\n",
        "    return np.mean(word_embeddings, axis=0)\n",
        "\n",
        "df['word_embeddings'] = df['full_text'].apply(embed_text)\n",
        "\n",
        "from sklearn.metrics.pairwise import cosine_similarity\n",
        "\n",
        "cosine_similarities_word2vec = cosine_similarity(list(df['word_embeddings']))"
      ],
      "metadata": {
        "id": "uy8tKIhxjxOQ"
      },
      "execution_count": null,
      "outputs": []
    },
    {
      "cell_type": "code",
      "source": [
        "def get_recommendations_word2vec(book_title):\n",
        "    idx = df[df['title'] == book_title].index[0]\n",
        "    sim_scores = list(enumerate(cosine_similarities_word2vec[idx]))\n",
        "    sim_scores = sorted(sim_scores, key=lambda x: x[1], reverse=True)\n",
        "    sim_scores = sim_scores[1:11]\n",
        "\n",
        "    book_indices = [i[0] for i in sim_scores]\n",
        "    return df['title'].iloc[book_indices]"
      ],
      "metadata": {
        "id": "FRfC98k7jxLh"
      },
      "execution_count": null,
      "outputs": []
    },
    {
      "cell_type": "code",
      "source": [
        "# Example usage:\n",
        "book_title = 'Star Wars'\n",
        "recommendations_word2vec = get_recommendations_word2vec(book_title)\n",
        "print(recommendations_word2vec)"
      ],
      "metadata": {
        "id": "E7j2YJ1ujxHx"
      },
      "execution_count": null,
      "outputs": []
    }
  ]
}